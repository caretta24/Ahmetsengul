{
  "cells": [
    {
      "cell_type": "markdown",
      "metadata": {
        "id": "view-in-github",
        "colab_type": "text"
      },
      "source": [
        "<a href=\"https://colab.research.google.com/github/caretta24/Ahmetsengul/blob/master/Clustering.ipynb\" target=\"_parent\"><img src=\"https://colab.research.google.com/assets/colab-badge.svg\" alt=\"Open In Colab\"/></a>"
      ]
    },
    {
      "cell_type": "code",
      "execution_count": 8,
      "id": "62d8f5b1",
      "metadata": {
        "id": "62d8f5b1",
        "colab": {
          "base_uri": "https://localhost:8080/",
          "height": 206
        },
        "outputId": "67901017-6017-415d-c85c-404983454ea4"
      },
      "outputs": [
        {
          "output_type": "execute_result",
          "data": {
            "text/plain": [
              "      num_reactions  num_comments  num_shares  num_likes  num_loves  num_wows  \\\n",
              "7045       0.018896      0.000000    0.000000   0.018896   0.000000       0.0   \n",
              "7046       0.003397      0.000000    0.000000   0.002972   0.001522       0.0   \n",
              "7047       0.000425      0.000000    0.000000   0.000212   0.001522       0.0   \n",
              "7048       0.074522      0.000572    0.006425   0.074098   0.003044       0.0   \n",
              "7049       0.003609      0.000000    0.000000   0.003609   0.000000       0.0   \n",
              "\n",
              "      num_hahas  num_sads  num_angrys  status_type_link  status_type_photo  \\\n",
              "7045   0.000000       0.0         0.0               0.0                1.0   \n",
              "7046   0.006369       0.0         0.0               0.0                1.0   \n",
              "7047   0.000000       0.0         0.0               0.0                1.0   \n",
              "7048   0.000000       0.0         0.0               0.0                1.0   \n",
              "7049   0.000000       0.0         0.0               0.0                1.0   \n",
              "\n",
              "      status_type_status  status_type_video  \n",
              "7045                 0.0                0.0  \n",
              "7046                 0.0                0.0  \n",
              "7047                 0.0                0.0  \n",
              "7048                 0.0                0.0  \n",
              "7049                 0.0                0.0  "
            ],
            "text/html": [
              "\n",
              "  <div id=\"df-4ca9e4dd-3237-47f0-9260-4a9f56eb6198\">\n",
              "    <div class=\"colab-df-container\">\n",
              "      <div>\n",
              "<style scoped>\n",
              "    .dataframe tbody tr th:only-of-type {\n",
              "        vertical-align: middle;\n",
              "    }\n",
              "\n",
              "    .dataframe tbody tr th {\n",
              "        vertical-align: top;\n",
              "    }\n",
              "\n",
              "    .dataframe thead th {\n",
              "        text-align: right;\n",
              "    }\n",
              "</style>\n",
              "<table border=\"1\" class=\"dataframe\">\n",
              "  <thead>\n",
              "    <tr style=\"text-align: right;\">\n",
              "      <th></th>\n",
              "      <th>num_reactions</th>\n",
              "      <th>num_comments</th>\n",
              "      <th>num_shares</th>\n",
              "      <th>num_likes</th>\n",
              "      <th>num_loves</th>\n",
              "      <th>num_wows</th>\n",
              "      <th>num_hahas</th>\n",
              "      <th>num_sads</th>\n",
              "      <th>num_angrys</th>\n",
              "      <th>status_type_link</th>\n",
              "      <th>status_type_photo</th>\n",
              "      <th>status_type_status</th>\n",
              "      <th>status_type_video</th>\n",
              "    </tr>\n",
              "  </thead>\n",
              "  <tbody>\n",
              "    <tr>\n",
              "      <th>7045</th>\n",
              "      <td>0.018896</td>\n",
              "      <td>0.000000</td>\n",
              "      <td>0.000000</td>\n",
              "      <td>0.018896</td>\n",
              "      <td>0.000000</td>\n",
              "      <td>0.0</td>\n",
              "      <td>0.000000</td>\n",
              "      <td>0.0</td>\n",
              "      <td>0.0</td>\n",
              "      <td>0.0</td>\n",
              "      <td>1.0</td>\n",
              "      <td>0.0</td>\n",
              "      <td>0.0</td>\n",
              "    </tr>\n",
              "    <tr>\n",
              "      <th>7046</th>\n",
              "      <td>0.003397</td>\n",
              "      <td>0.000000</td>\n",
              "      <td>0.000000</td>\n",
              "      <td>0.002972</td>\n",
              "      <td>0.001522</td>\n",
              "      <td>0.0</td>\n",
              "      <td>0.006369</td>\n",
              "      <td>0.0</td>\n",
              "      <td>0.0</td>\n",
              "      <td>0.0</td>\n",
              "      <td>1.0</td>\n",
              "      <td>0.0</td>\n",
              "      <td>0.0</td>\n",
              "    </tr>\n",
              "    <tr>\n",
              "      <th>7047</th>\n",
              "      <td>0.000425</td>\n",
              "      <td>0.000000</td>\n",
              "      <td>0.000000</td>\n",
              "      <td>0.000212</td>\n",
              "      <td>0.001522</td>\n",
              "      <td>0.0</td>\n",
              "      <td>0.000000</td>\n",
              "      <td>0.0</td>\n",
              "      <td>0.0</td>\n",
              "      <td>0.0</td>\n",
              "      <td>1.0</td>\n",
              "      <td>0.0</td>\n",
              "      <td>0.0</td>\n",
              "    </tr>\n",
              "    <tr>\n",
              "      <th>7048</th>\n",
              "      <td>0.074522</td>\n",
              "      <td>0.000572</td>\n",
              "      <td>0.006425</td>\n",
              "      <td>0.074098</td>\n",
              "      <td>0.003044</td>\n",
              "      <td>0.0</td>\n",
              "      <td>0.000000</td>\n",
              "      <td>0.0</td>\n",
              "      <td>0.0</td>\n",
              "      <td>0.0</td>\n",
              "      <td>1.0</td>\n",
              "      <td>0.0</td>\n",
              "      <td>0.0</td>\n",
              "    </tr>\n",
              "    <tr>\n",
              "      <th>7049</th>\n",
              "      <td>0.003609</td>\n",
              "      <td>0.000000</td>\n",
              "      <td>0.000000</td>\n",
              "      <td>0.003609</td>\n",
              "      <td>0.000000</td>\n",
              "      <td>0.0</td>\n",
              "      <td>0.000000</td>\n",
              "      <td>0.0</td>\n",
              "      <td>0.0</td>\n",
              "      <td>0.0</td>\n",
              "      <td>1.0</td>\n",
              "      <td>0.0</td>\n",
              "      <td>0.0</td>\n",
              "    </tr>\n",
              "  </tbody>\n",
              "</table>\n",
              "</div>\n",
              "      <button class=\"colab-df-convert\" onclick=\"convertToInteractive('df-4ca9e4dd-3237-47f0-9260-4a9f56eb6198')\"\n",
              "              title=\"Convert this dataframe to an interactive table.\"\n",
              "              style=\"display:none;\">\n",
              "        \n",
              "  <svg xmlns=\"http://www.w3.org/2000/svg\" height=\"24px\"viewBox=\"0 0 24 24\"\n",
              "       width=\"24px\">\n",
              "    <path d=\"M0 0h24v24H0V0z\" fill=\"none\"/>\n",
              "    <path d=\"M18.56 5.44l.94 2.06.94-2.06 2.06-.94-2.06-.94-.94-2.06-.94 2.06-2.06.94zm-11 1L8.5 8.5l.94-2.06 2.06-.94-2.06-.94L8.5 2.5l-.94 2.06-2.06.94zm10 10l.94 2.06.94-2.06 2.06-.94-2.06-.94-.94-2.06-.94 2.06-2.06.94z\"/><path d=\"M17.41 7.96l-1.37-1.37c-.4-.4-.92-.59-1.43-.59-.52 0-1.04.2-1.43.59L10.3 9.45l-7.72 7.72c-.78.78-.78 2.05 0 2.83L4 21.41c.39.39.9.59 1.41.59.51 0 1.02-.2 1.41-.59l7.78-7.78 2.81-2.81c.8-.78.8-2.07 0-2.86zM5.41 20L4 18.59l7.72-7.72 1.47 1.35L5.41 20z\"/>\n",
              "  </svg>\n",
              "      </button>\n",
              "      \n",
              "  <style>\n",
              "    .colab-df-container {\n",
              "      display:flex;\n",
              "      flex-wrap:wrap;\n",
              "      gap: 12px;\n",
              "    }\n",
              "\n",
              "    .colab-df-convert {\n",
              "      background-color: #E8F0FE;\n",
              "      border: none;\n",
              "      border-radius: 50%;\n",
              "      cursor: pointer;\n",
              "      display: none;\n",
              "      fill: #1967D2;\n",
              "      height: 32px;\n",
              "      padding: 0 0 0 0;\n",
              "      width: 32px;\n",
              "    }\n",
              "\n",
              "    .colab-df-convert:hover {\n",
              "      background-color: #E2EBFA;\n",
              "      box-shadow: 0px 1px 2px rgba(60, 64, 67, 0.3), 0px 1px 3px 1px rgba(60, 64, 67, 0.15);\n",
              "      fill: #174EA6;\n",
              "    }\n",
              "\n",
              "    [theme=dark] .colab-df-convert {\n",
              "      background-color: #3B4455;\n",
              "      fill: #D2E3FC;\n",
              "    }\n",
              "\n",
              "    [theme=dark] .colab-df-convert:hover {\n",
              "      background-color: #434B5C;\n",
              "      box-shadow: 0px 1px 3px 1px rgba(0, 0, 0, 0.15);\n",
              "      filter: drop-shadow(0px 1px 2px rgba(0, 0, 0, 0.3));\n",
              "      fill: #FFFFFF;\n",
              "    }\n",
              "  </style>\n",
              "\n",
              "      <script>\n",
              "        const buttonEl =\n",
              "          document.querySelector('#df-4ca9e4dd-3237-47f0-9260-4a9f56eb6198 button.colab-df-convert');\n",
              "        buttonEl.style.display =\n",
              "          google.colab.kernel.accessAllowed ? 'block' : 'none';\n",
              "\n",
              "        async function convertToInteractive(key) {\n",
              "          const element = document.querySelector('#df-4ca9e4dd-3237-47f0-9260-4a9f56eb6198');\n",
              "          const dataTable =\n",
              "            await google.colab.kernel.invokeFunction('convertToInteractive',\n",
              "                                                     [key], {});\n",
              "          if (!dataTable) return;\n",
              "\n",
              "          const docLinkHtml = 'Like what you see? Visit the ' +\n",
              "            '<a target=\"_blank\" href=https://colab.research.google.com/notebooks/data_table.ipynb>data table notebook</a>'\n",
              "            + ' to learn more about interactive tables.';\n",
              "          element.innerHTML = '';\n",
              "          dataTable['output_type'] = 'display_data';\n",
              "          await google.colab.output.renderOutput(dataTable, element);\n",
              "          const docLink = document.createElement('div');\n",
              "          docLink.innerHTML = docLinkHtml;\n",
              "          element.appendChild(docLink);\n",
              "        }\n",
              "      </script>\n",
              "    </div>\n",
              "  </div>\n",
              "  "
            ]
          },
          "metadata": {},
          "execution_count": 8
        }
      ],
      "source": [
        "import pandas as pd\n",
        "dataset = pd.read_csv(\"Live.csv\")\n",
        "dataset.head()\n",
        "dataset.tail()"
      ]
    },
    {
      "cell_type": "markdown",
      "source": [
        "# New Section"
      ],
      "metadata": {
        "id": "DH3GK8P138AA"
      },
      "id": "DH3GK8P138AA"
    },
    {
      "cell_type": "code",
      "execution_count": 4,
      "id": "156f9113",
      "metadata": {
        "id": "156f9113"
      },
      "outputs": [],
      "source": [
        "from sklearn.cluster import KMeans\n",
        "model = KMeans(n_clusters=3)"
      ]
    },
    {
      "cell_type": "code",
      "execution_count": 5,
      "id": "374ac5d7",
      "metadata": {
        "id": "374ac5d7",
        "outputId": "94c1413e-5d23-49d5-b3a0-7f6f86be7be5",
        "colab": {
          "base_uri": "https://localhost:8080/"
        }
      },
      "outputs": [
        {
          "output_type": "execute_result",
          "data": {
            "text/plain": [
              "KMeans(n_clusters=3)"
            ]
          },
          "metadata": {},
          "execution_count": 5
        }
      ],
      "source": [
        "model.fit(dataset)"
      ]
    },
    {
      "cell_type": "code",
      "execution_count": 6,
      "id": "1bacd9a2",
      "metadata": {
        "id": "1bacd9a2"
      },
      "outputs": [],
      "source": [
        "labels = model.predict(dataset)"
      ]
    },
    {
      "cell_type": "code",
      "execution_count": 7,
      "id": "d4c7f5d2",
      "metadata": {
        "id": "d4c7f5d2",
        "outputId": "a7e9b321-cc25-4b92-aa64-d1892341b6a8",
        "colab": {
          "base_uri": "https://localhost:8080/"
        }
      },
      "outputs": [
        {
          "output_type": "execute_result",
          "data": {
            "text/plain": [
              "(array([0, 1, 2], dtype=int32), array([4288, 2334,  428]))"
            ]
          },
          "metadata": {},
          "execution_count": 7
        }
      ],
      "source": [
        "import numpy as np\n",
        "np.unique(labels, return_counts=True)"
      ]
    },
    {
      "cell_type": "code",
      "execution_count": 9,
      "id": "60363cb2",
      "metadata": {
        "id": "60363cb2",
        "outputId": "a076afc6-f9af-4cff-cf12-9115561366e6",
        "colab": {
          "base_uri": "https://localhost:8080/",
          "height": 434
        }
      },
      "outputs": [
        {
          "output_type": "stream",
          "name": "stdout",
          "text": [
            "For n_clusters=2, The Silhouette Coefficient is 0.8188237721696822\n",
            "For n_clusters=3, The Silhouette Coefficient is 0.8972493682244883\n",
            "For n_clusters=4, The Silhouette Coefficient is 0.9106664962327088\n",
            "For n_clusters=5, The Silhouette Coefficient is 0.8866768371183754\n",
            "For n_clusters=6, The Silhouette Coefficient is 0.8430118288915796\n",
            "For n_clusters=7, The Silhouette Coefficient is 0.8419421782294257\n",
            "For n_clusters=8, The Silhouette Coefficient is 0.8369757672176514\n",
            "For n_clusters=9, The Silhouette Coefficient is 0.7603937156692144\n",
            "For n_clusters=10, The Silhouette Coefficient is 0.7279433810864646\n",
            "For n_clusters=11, The Silhouette Coefficient is 0.7156506514696281\n"
          ]
        },
        {
          "output_type": "display_data",
          "data": {
            "text/plain": [
              "<Figure size 864x576 with 1 Axes>"
            ],
            "image/png": "[encoded data removed]"
          },
          "metadata": {
            "needs_background": "light"
          }
        }
      ],
      "source": [
        "from sklearn.metrics import silhouette_score\n",
        "import matplotlib.pyplot as plt\n",
        "\n",
        "silhouettes = []\n",
        "ks = list(range(2, 12))\n",
        "for n_cluster in ks:\n",
        "    kmeans = KMeans(n_clusters=n_cluster).fit(dataset)\n",
        "    label = kmeans.labels_\n",
        "    sil_coeff = silhouette_score(dataset, label, metric='euclidean')\n",
        "    print(\"For n_clusters={}, The Silhouette Coefficient is {}\".format(n_cluster, sil_coeff))\n",
        "    silhouettes.append(sil_coeff)\n",
        "\n",
        "plt.figure(figsize=(12, 8))    \n",
        "plt.subplot(211)\n",
        "plt.scatter(ks, silhouettes, marker='x', c='r')\n",
        "plt.plot(ks, silhouettes)\n",
        "plt.xlabel('k')\n",
        "plt.ylabel('Silhouette score');"
      ]
    },
    {
      "cell_type": "code",
      "execution_count": 10,
      "id": "58500586",
      "metadata": {
        "id": "58500586",
        "outputId": "026a6ecf-d6a4-42bb-a09e-223f7ff6f256",
        "colab": {
          "base_uri": "https://localhost:8080/"
        }
      },
      "outputs": [
        {
          "output_type": "execute_result",
          "data": {
            "text/plain": [
              "(array([0, 1, 2, 3], dtype=int32), array([2334, 4288,  365,   63]))"
            ]
          },
          "metadata": {},
          "execution_count": 10
        }
      ],
      "source": [
        "from sklearn.cluster import KMeans\n",
        "model = KMeans(n_clusters=4)\n",
        "model.fit(dataset)\n",
        "labels = model.predict(dataset)\n",
        "import numpy as np\n",
        "np.unique(labels, return_counts=True)"
      ]
    },
    {
      "cell_type": "code",
      "execution_count": 11,
      "id": "a75ca938",
      "metadata": {
        "id": "a75ca938",
        "outputId": "c4730222-9c1d-4575-df3e-6513931e5ab8",
        "colab": {
          "base_uri": "https://localhost:8080/",
          "height": 468
        }
      },
      "outputs": [
        {
          "output_type": "execute_result",
          "data": {
            "text/plain": [
              "      num_reactions  num_comments  num_shares  num_likes  num_loves  num_wows  \\\n",
              "0          0.112314      0.024393    0.076519   0.091720   0.140030  0.010791   \n",
              "1          0.031847      0.000000    0.000000   0.031847   0.000000  0.000000   \n",
              "2          0.048195      0.011243    0.016647   0.043312   0.031963  0.003597   \n",
              "3          0.023567      0.000000    0.000000   0.023567   0.000000  0.000000   \n",
              "4          0.045223      0.000000    0.000000   0.043312   0.013699  0.000000   \n",
              "...             ...           ...         ...        ...        ...       ...   \n",
              "7045       0.018896      0.000000    0.000000   0.018896   0.000000  0.000000   \n",
              "7046       0.003397      0.000000    0.000000   0.002972   0.001522  0.000000   \n",
              "7047       0.000425      0.000000    0.000000   0.000212   0.001522  0.000000   \n",
              "7048       0.074522      0.000572    0.006425   0.074098   0.003044  0.000000   \n",
              "7049       0.003609      0.000000    0.000000   0.003609   0.000000  0.000000   \n",
              "\n",
              "      num_hahas  num_sads  num_angrys  status_type_link  status_type_photo  \\\n",
              "0      0.006369  0.019608         0.0               0.0                0.0   \n",
              "1      0.000000  0.000000         0.0               0.0                1.0   \n",
              "2      0.006369  0.000000         0.0               0.0                0.0   \n",
              "3      0.000000  0.000000         0.0               0.0                1.0   \n",
              "4      0.000000  0.000000         0.0               0.0                1.0   \n",
              "...         ...       ...         ...               ...                ...   \n",
              "7045   0.000000  0.000000         0.0               0.0                1.0   \n",
              "7046   0.006369  0.000000         0.0               0.0                1.0   \n",
              "7047   0.000000  0.000000         0.0               0.0                1.0   \n",
              "7048   0.000000  0.000000         0.0               0.0                1.0   \n",
              "7049   0.000000  0.000000         0.0               0.0                1.0   \n",
              "\n",
              "      status_type_status  status_type_video  labels  \n",
              "0                    0.0                1.0       0  \n",
              "1                    0.0                0.0       1  \n",
              "2                    0.0                1.0       0  \n",
              "3                    0.0                0.0       1  \n",
              "4                    0.0                0.0       1  \n",
              "...                  ...                ...     ...  \n",
              "7045                 0.0                0.0       1  \n",
              "7046                 0.0                0.0       1  \n",
              "7047                 0.0                0.0       1  \n",
              "7048                 0.0                0.0       1  \n",
              "7049                 0.0                0.0       1  \n",
              "\n",
              "[7050 rows x 14 columns]"
            ],
            "text/html": [
              "\n",
              "  <div id=\"df-050fa2ad-55c3-41d2-b1bf-61488ccf12c6\">\n",
              "    <div class=\"colab-df-container\">\n",
              "      <div>\n",
              "<style scoped>\n",
              "    .dataframe tbody tr th:only-of-type {\n",
              "        vertical-align: middle;\n",
              "    }\n",
              "\n",
              "    .dataframe tbody tr th {\n",
              "        vertical-align: top;\n",
              "    }\n",
              "\n",
              "    .dataframe thead th {\n",
              "        text-align: right;\n",
              "    }\n",
              "</style>\n",
              "<table border=\"1\" class=\"dataframe\">\n",
              "  <thead>\n",
              "    <tr style=\"text-align: right;\">\n",
              "      <th></th>\n",
              "      <th>num_reactions</th>\n",
              "      <th>num_comments</th>\n",
              "      <th>num_shares</th>\n",
              "      <th>num_likes</th>\n",
              "      <th>num_loves</th>\n",
              "      <th>num_wows</th>\n",
              "      <th>num_hahas</th>\n",
              "      <th>num_sads</th>\n",
              "      <th>num_angrys</th>\n",
              "      <th>status_type_link</th>\n",
              "      <th>status_type_photo</th>\n",
              "      <th>status_type_status</th>\n",
              "      <th>status_type_video</th>\n",
              "      <th>labels</th>\n",
              "    </tr>\n",
              "  </thead>\n",
              "  <tbody>\n",
              "    <tr>\n",
              "      <th>0</th>\n",
              "      <td>0.112314</td>\n",
              "      <td>0.024393</td>\n",
              "      <td>0.076519</td>\n",
              "      <td>0.091720</td>\n",
              "      <td>0.140030</td>\n",
              "      <td>0.010791</td>\n",
              "      <td>0.006369</td>\n",
              "      <td>0.019608</td>\n",
              "      <td>0.0</td>\n",
              "      <td>0.0</td>\n",
              "      <td>0.0</td>\n",
              "      <td>0.0</td>\n",
              "      <td>1.0</td>\n",
              "      <td>0</td>\n",
              "    </tr>\n",
              "    <tr>\n",
              "      <th>1</th>\n",
              "      <td>0.031847</td>\n",
              "      <td>0.000000</td>\n",
              "      <td>0.000000</td>\n",
              "      <td>0.031847</td>\n",
              "      <td>0.000000</td>\n",
              "      <td>0.000000</td>\n",
              "      <td>0.000000</td>\n",
              "      <td>0.000000</td>\n",
              "      <td>0.0</td>\n",
              "      <td>0.0</td>\n",
              "      <td>1.0</td>\n",
              "      <td>0.0</td>\n",
              "      <td>0.0</td>\n",
              "      <td>1</td>\n",
              "    </tr>\n",
              "    <tr>\n",
              "      <th>2</th>\n",
              "      <td>0.048195</td>\n",
              "      <td>0.011243</td>\n",
              "      <td>0.016647</td>\n",
              "      <td>0.043312</td>\n",
              "      <td>0.031963</td>\n",
              "      <td>0.003597</td>\n",
              "      <td>0.006369</td>\n",
              "      <td>0.000000</td>\n",
              "      <td>0.0</td>\n",
              "      <td>0.0</td>\n",
              "      <td>0.0</td>\n",
              "      <td>0.0</td>\n",
              "      <td>1.0</td>\n",
              "      <td>0</td>\n",
              "    </tr>\n",
              "    <tr>\n",
              "      <th>3</th>\n",
              "      <td>0.023567</td>\n",
              "      <td>0.000000</td>\n",
              "      <td>0.000000</td>\n",
              "      <td>0.023567</td>\n",
              "      <td>0.000000</td>\n",
              "      <td>0.000000</td>\n",
              "      <td>0.000000</td>\n",
              "      <td>0.000000</td>\n",
              "      <td>0.0</td>\n",
              "      <td>0.0</td>\n",
              "      <td>1.0</td>\n",
              "      <td>0.0</td>\n",
              "      <td>0.0</td>\n",
              "      <td>1</td>\n",
              "    </tr>\n",
              "    <tr>\n",
              "      <th>4</th>\n",
              "      <td>0.045223</td>\n",
              "      <td>0.000000</td>\n",
              "      <td>0.000000</td>\n",
              "      <td>0.043312</td>\n",
              "      <td>0.013699</td>\n",
              "      <td>0.000000</td>\n",
              "      <td>0.000000</td>\n",
              "      <td>0.000000</td>\n",
              "      <td>0.0</td>\n",
              "      <td>0.0</td>\n",
              "      <td>1.0</td>\n",
              "      <td>0.0</td>\n",
              "      <td>0.0</td>\n",
              "      <td>1</td>\n",
              "    </tr>\n",
              "    <tr>\n",
              "      <th>...</th>\n",
              "      <td>...</td>\n",
              "      <td>...</td>\n",
              "      <td>...</td>\n",
              "      <td>...</td>\n",
              "      <td>...</td>\n",
              "      <td>...</td>\n",
              "      <td>...</td>\n",
              "      <td>...</td>\n",
              "      <td>...</td>\n",
              "      <td>...</td>\n",
              "      <td>...</td>\n",
              "      <td>...</td>\n",
              "      <td>...</td>\n",
              "      <td>...</td>\n",
              "    </tr>\n",
              "    <tr>\n",
              "      <th>7045</th>\n",
              "      <td>0.018896</td>\n",
              "      <td>0.000000</td>\n",
              "      <td>0.000000</td>\n",
              "      <td>0.018896</td>\n",
              "      <td>0.000000</td>\n",
              "      <td>0.000000</td>\n",
              "      <td>0.000000</td>\n",
              "      <td>0.000000</td>\n",
              "      <td>0.0</td>\n",
              "      <td>0.0</td>\n",
              "      <td>1.0</td>\n",
              "      <td>0.0</td>\n",
              "      <td>0.0</td>\n",
              "      <td>1</td>\n",
              "    </tr>\n",
              "    <tr>\n",
              "      <th>7046</th>\n",
              "      <td>0.003397</td>\n",
              "      <td>0.000000</td>\n",
              "      <td>0.000000</td>\n",
              "      <td>0.002972</td>\n",
              "      <td>0.001522</td>\n",
              "      <td>0.000000</td>\n",
              "      <td>0.006369</td>\n",
              "      <td>0.000000</td>\n",
              "      <td>0.0</td>\n",
              "      <td>0.0</td>\n",
              "      <td>1.0</td>\n",
              "      <td>0.0</td>\n",
              "      <td>0.0</td>\n",
              "      <td>1</td>\n",
              "    </tr>\n",
              "    <tr>\n",
              "      <th>7047</th>\n",
              "      <td>0.000425</td>\n",
              "      <td>0.000000</td>\n",
              "      <td>0.000000</td>\n",
              "      <td>0.000212</td>\n",
              "      <td>0.001522</td>\n",
              "      <td>0.000000</td>\n",
              "      <td>0.000000</td>\n",
              "      <td>0.000000</td>\n",
              "      <td>0.0</td>\n",
              "      <td>0.0</td>\n",
              "      <td>1.0</td>\n",
              "      <td>0.0</td>\n",
              "      <td>0.0</td>\n",
              "      <td>1</td>\n",
              "    </tr>\n",
              "    <tr>\n",
              "      <th>7048</th>\n",
              "      <td>0.074522</td>\n",
              "      <td>0.000572</td>\n",
              "      <td>0.006425</td>\n",
              "      <td>0.074098</td>\n",
              "      <td>0.003044</td>\n",
              "      <td>0.000000</td>\n",
              "      <td>0.000000</td>\n",
              "      <td>0.000000</td>\n",
              "      <td>0.0</td>\n",
              "      <td>0.0</td>\n",
              "      <td>1.0</td>\n",
              "      <td>0.0</td>\n",
              "      <td>0.0</td>\n",
              "      <td>1</td>\n",
              "    </tr>\n",
              "    <tr>\n",
              "      <th>7049</th>\n",
              "      <td>0.003609</td>\n",
              "      <td>0.000000</td>\n",
              "      <td>0.000000</td>\n",
              "      <td>0.003609</td>\n",
              "      <td>0.000000</td>\n",
              "      <td>0.000000</td>\n",
              "      <td>0.000000</td>\n",
              "      <td>0.000000</td>\n",
              "      <td>0.0</td>\n",
              "      <td>0.0</td>\n",
              "      <td>1.0</td>\n",
              "      <td>0.0</td>\n",
              "      <td>0.0</td>\n",
              "      <td>1</td>\n",
              "    </tr>\n",
              "  </tbody>\n",
              "</table>\n",
              "<p>7050 rows × 14 columns</p>\n",
              "</div>\n",
              "      <button class=\"colab-df-convert\" onclick=\"convertToInteractive('df-050fa2ad-55c3-41d2-b1bf-61488ccf12c6')\"\n",
              "              title=\"Convert this dataframe to an interactive table.\"\n",
              "              style=\"display:none;\">\n",
              "        \n",
              "  <svg xmlns=\"http://www.w3.org/2000/svg\" height=\"24px\"viewBox=\"0 0 24 24\"\n",
              "       width=\"24px\">\n",
              "    <path d=\"M0 0h24v24H0V0z\" fill=\"none\"/>\n",
              "    <path d=\"M18.56 5.44l.94 2.06.94-2.06 2.06-.94-2.06-.94-.94-2.06-.94 2.06-2.06.94zm-11 1L8.5 8.5l.94-2.06 2.06-.94-2.06-.94L8.5 2.5l-.94 2.06-2.06.94zm10 10l.94 2.06.94-2.06 2.06-.94-2.06-.94-.94-2.06-.94 2.06-2.06.94z\"/><path d=\"M17.41 7.96l-1.37-1.37c-.4-.4-.92-.59-1.43-.59-.52 0-1.04.2-1.43.59L10.3 9.45l-7.72 7.72c-.78.78-.78 2.05 0 2.83L4 21.41c.39.39.9.59 1.41.59.51 0 1.02-.2 1.41-.59l7.78-7.78 2.81-2.81c.8-.78.8-2.07 0-2.86zM5.41 20L4 18.59l7.72-7.72 1.47 1.35L5.41 20z\"/>\n",
              "  </svg>\n",
              "      </button>\n",
              "      \n",
              "  <style>\n",
              "    .colab-df-container {\n",
              "      display:flex;\n",
              "      flex-wrap:wrap;\n",
              "      gap: 12px;\n",
              "    }\n",
              "\n",
              "    .colab-df-convert {\n",
              "      background-color: #E8F0FE;\n",
              "      border: none;\n",
              "      border-radius: 50%;\n",
              "      cursor: pointer;\n",
              "      display: none;\n",
              "      fill: #1967D2;\n",
              "      height: 32px;\n",
              "      padding: 0 0 0 0;\n",
              "      width: 32px;\n",
              "    }\n",
              "\n",
              "    .colab-df-convert:hover {\n",
              "      background-color: #E2EBFA;\n",
              "      box-shadow: 0px 1px 2px rgba(60, 64, 67, 0.3), 0px 1px 3px 1px rgba(60, 64, 67, 0.15);\n",
              "      fill: #174EA6;\n",
              "    }\n",
              "\n",
              "    [theme=dark] .colab-df-convert {\n",
              "      background-color: #3B4455;\n",
              "      fill: #D2E3FC;\n",
              "    }\n",
              "\n",
              "    [theme=dark] .colab-df-convert:hover {\n",
              "      background-color: #434B5C;\n",
              "      box-shadow: 0px 1px 3px 1px rgba(0, 0, 0, 0.15);\n",
              "      filter: drop-shadow(0px 1px 2px rgba(0, 0, 0, 0.3));\n",
              "      fill: #FFFFFF;\n",
              "    }\n",
              "  </style>\n",
              "\n",
              "      <script>\n",
              "        const buttonEl =\n",
              "          document.querySelector('#df-050fa2ad-55c3-41d2-b1bf-61488ccf12c6 button.colab-df-convert');\n",
              "        buttonEl.style.display =\n",
              "          google.colab.kernel.accessAllowed ? 'block' : 'none';\n",
              "\n",
              "        async function convertToInteractive(key) {\n",
              "          const element = document.querySelector('#df-050fa2ad-55c3-41d2-b1bf-61488ccf12c6');\n",
              "          const dataTable =\n",
              "            await google.colab.kernel.invokeFunction('convertToInteractive',\n",
              "                                                     [key], {});\n",
              "          if (!dataTable) return;\n",
              "\n",
              "          const docLinkHtml = 'Like what you see? Visit the ' +\n",
              "            '<a target=\"_blank\" href=https://colab.research.google.com/notebooks/data_table.ipynb>data table notebook</a>'\n",
              "            + ' to learn more about interactive tables.';\n",
              "          element.innerHTML = '';\n",
              "          dataTable['output_type'] = 'display_data';\n",
              "          await google.colab.output.renderOutput(dataTable, element);\n",
              "          const docLink = document.createElement('div');\n",
              "          docLink.innerHTML = docLinkHtml;\n",
              "          element.appendChild(docLink);\n",
              "        }\n",
              "      </script>\n",
              "    </div>\n",
              "  </div>\n",
              "  "
            ]
          },
          "metadata": {},
          "execution_count": 11
        }
      ],
      "source": [
        "dataset[\"labels\"] = labels\n",
        "dataset"
      ]
    },
    {
      "cell_type": "code",
      "execution_count": 12,
      "id": "919fba66",
      "metadata": {
        "id": "919fba66",
        "outputId": "238436c0-3505-417b-c42e-7709c3483d34",
        "colab": {
          "base_uri": "https://localhost:8080/"
        }
      },
      "outputs": [
        {
          "output_type": "execute_result",
          "data": {
            "text/plain": [
              "0.030608773182480054"
            ]
          },
          "metadata": {},
          "execution_count": 12
        }
      ],
      "source": [
        "group_zero = dataset[dataset[\"labels\"]==0][\"num_comments\"].mean()\n",
        "group_zero"
      ]
    },
    {
      "cell_type": "code",
      "execution_count": 13,
      "id": "9618eb15",
      "metadata": {
        "id": "9618eb15",
        "outputId": "64ed05ad-c7e1-4ff5-f2ce-9ab1c276a56c",
        "colab": {
          "base_uri": "https://localhost:8080/"
        }
      },
      "outputs": [
        {
          "output_type": "execute_result",
          "data": {
            "text/plain": [
              "0.0007619566531325948"
            ]
          },
          "metadata": {},
          "execution_count": 13
        }
      ],
      "source": [
        "group_one = dataset[dataset[\"labels\"]==1][\"num_comments\"].mean()\n",
        "group_one"
      ]
    },
    {
      "cell_type": "code",
      "execution_count": 14,
      "id": "328f356a",
      "metadata": {
        "id": "328f356a",
        "outputId": "e9776c71-7550-4b2e-82a8-3024ea6756bd",
        "colab": {
          "base_uri": "https://localhost:8080/"
        }
      },
      "outputs": [
        {
          "output_type": "execute_result",
          "data": {
            "text/plain": [
              "0.0017264581307471548"
            ]
          },
          "metadata": {},
          "execution_count": 14
        }
      ],
      "source": [
        "group_two = dataset[dataset[\"labels\"]==2][\"num_comments\"].mean()\n",
        "group_two"
      ]
    },
    {
      "cell_type": "code",
      "execution_count": 15,
      "id": "794591ef",
      "metadata": {
        "id": "794591ef",
        "outputId": "4228abe8-e59e-49ca-8562-f51376206758",
        "colab": {
          "base_uri": "https://localhost:8080/"
        }
      },
      "outputs": [
        {
          "output_type": "execute_result",
          "data": {
            "text/plain": [
              "0.00027148226290672723"
            ]
          },
          "metadata": {},
          "execution_count": 15
        }
      ],
      "source": [
        "group_three = dataset[dataset[\"labels\"]==3][\"num_comments\"].mean()\n",
        "group_three"
      ]
    },
    {
      "cell_type": "markdown",
      "id": "12c6305a",
      "metadata": {
        "id": "12c6305a"
      },
      "source": [
        "____"
      ]
    },
    {
      "cell_type": "code",
      "execution_count": 16,
      "id": "80bc2850",
      "metadata": {
        "id": "80bc2850",
        "outputId": "1c09e799-107f-4318-8647-d8dcac3ab410",
        "colab": {
          "base_uri": "https://localhost:8080/"
        }
      },
      "outputs": [
        {
          "output_type": "execute_result",
          "data": {
            "text/plain": [
              "0.033785031713235436"
            ]
          },
          "metadata": {},
          "execution_count": 16
        }
      ],
      "source": [
        "group_zero = dataset[dataset[\"labels\"]==0][\"num_shares\"].mean()\n",
        "group_zero"
      ]
    },
    {
      "cell_type": "code",
      "execution_count": 17,
      "id": "7734180f",
      "metadata": {
        "id": "7734180f",
        "outputId": "f030aa1d-63a5-4e31-9286-b7472961bc2a",
        "colab": {
          "base_uri": "https://localhost:8080/"
        }
      },
      "outputs": [
        {
          "output_type": "execute_result",
          "data": {
            "text/plain": [
              "0.0007458736181824375"
            ]
          },
          "metadata": {},
          "execution_count": 17
        }
      ],
      "source": [
        "group_one = dataset[dataset[\"labels\"]==1][\"num_shares\"].mean()\n",
        "group_one"
      ]
    },
    {
      "cell_type": "code",
      "execution_count": 18,
      "id": "39b3031c",
      "metadata": {
        "id": "39b3031c",
        "outputId": "aa1111c5-9ef2-457f-8d74-f228eb39fb27",
        "colab": {
          "base_uri": "https://localhost:8080/"
        }
      },
      "outputs": [
        {
          "output_type": "execute_result",
          "data": {
            "text/plain": [
              "0.0007473434899500528"
            ]
          },
          "metadata": {},
          "execution_count": 18
        }
      ],
      "source": [
        "group_two = dataset[dataset[\"labels\"]==2][\"num_shares\"].mean()\n",
        "group_two"
      ]
    },
    {
      "cell_type": "code",
      "execution_count": 19,
      "id": "d0d076ec",
      "metadata": {
        "id": "d0d076ec",
        "outputId": "35163ede-ecee-4079-e4fc-4487bd7d4835",
        "colab": {
          "base_uri": "https://localhost:8080/"
        }
      },
      "outputs": [
        {
          "output_type": "execute_result",
          "data": {
            "text/plain": [
              "0.001284119566829822"
            ]
          },
          "metadata": {},
          "execution_count": 19
        }
      ],
      "source": [
        "group_three = dataset[dataset[\"labels\"]==3][\"num_shares\"].mean()\n",
        "group_three"
      ]
    },
    {
      "cell_type": "code",
      "execution_count": 20,
      "id": "2990017c",
      "metadata": {
        "id": "2990017c"
      },
      "outputs": [],
      "source": [
        "status_type = dataset[[\"status_type_photo\", \"status_type_video\", \"status_type_status\"]].idxmax(axis=1)\n",
        "dataset = pd.concat([dataset[\"labels\"],status_type.rename(\"status_type\")], axis=1)"
      ]
    },
    {
      "cell_type": "code",
      "execution_count": 21,
      "id": "ffb782ef",
      "metadata": {
        "id": "ffb782ef",
        "outputId": "7d102e0f-05be-4d61-8b54-9ebae92de69c",
        "colab": {
          "base_uri": "https://localhost:8080/"
        }
      },
      "outputs": [
        {
          "output_type": "execute_result",
          "data": {
            "text/plain": [
              "labels  status_type       \n",
              "0       status_type_video     2334\n",
              "1       status_type_photo     4288\n",
              "2       status_type_status     365\n",
              "3       status_type_photo       63\n",
              "Name: status_type, dtype: int64"
            ]
          },
          "metadata": {},
          "execution_count": 21
        }
      ],
      "source": [
        "dataset.groupby([\"labels\",\"status_type\"])[\"status_type\"].count()"
      ]
    }
  ],
  "metadata": {
    "kernelspec": {
      "display_name": "Python 3",
      "language": "python",
      "name": "python3"
    },
    "language_info": {
      "codemirror_mode": {
        "name": "ipython",
        "version": 3
      },
      "file_extension": ".py",
      "mimetype": "text/x-python",
      "name": "python",
      "nbconvert_exporter": "python",
      "pygments_lexer": "ipython3",
      "version": "3.8.8"
    },
    "colab": {
      "name": "Clustering.ipynb",
      "provenance": [],
      "include_colab_link": true
    }
  },
  "nbformat": 4,
  "nbformat_minor": 5
}