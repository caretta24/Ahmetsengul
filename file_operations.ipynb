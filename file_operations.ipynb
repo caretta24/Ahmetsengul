{
  "nbformat": 4,
  "nbformat_minor": 0,
  "metadata": {
    "colab": {
      "name": "file_operations.ipynb",
      "provenance": [],
      "collapsed_sections": [],
      "include_colab_link": true
    },
    "kernelspec": {
      "name": "python3",
      "display_name": "Python 3"
    },
    "language_info": {
      "name": "python"
    }
  },
  "cells": [
    {
      "cell_type": "markdown",
      "metadata": {
        "id": "view-in-github",
        "colab_type": "text"
      },
      "source": [
        "<a href=\"https://colab.research.google.com/github/caretta24/Ahmetsengul/blob/master/file_operations.ipynb\" target=\"_parent\"><img src=\"https://colab.research.google.com/assets/colab-badge.svg\" alt=\"Open In Colab\"/></a>"
      ]
    },
    {
      "cell_type": "markdown",
      "source": [
        "#Create a file\n",
        "\n",
        "\n",
        "\n",
        "1.   Create a folder called \"file_operations\".\n",
        "2.   Create a file called \"message.txt\" inside \"file_operations\" folder\n",
        "\n",
        "\n",
        "\n",
        "\n"
      ],
      "metadata": {
        "id": "4vsuKp1Fn1rR"
      }
    },
    {
      "cell_type": "code",
      "execution_count": null,
      "metadata": {
        "id": "vGiW6Yl8mMy5",
        "colab": {
          "base_uri": "https://localhost:8080/"
        },
        "outputId": "7df49590-e59f-4632-d677-9317f3d253b8"
      },
      "outputs": [
        {
          "output_type": "stream",
          "name": "stdout",
          "text": [
            "[Errno 2] No such file or directory: '/content/file_operations'\n",
            "/content\n"
          ]
        }
      ],
      "source": [
        "# Navigate to message.txt’s directory\n",
        "%cd /content/file_operations"
      ]
    },
    {
      "cell_type": "code",
      "source": [
        "# opens hello.txt text file in the current directory\n",
        "message_file = open(\"message.txt\")"
      ],
      "metadata": {
        "id": "Ts-Gogiroc0U",
        "colab": {
          "base_uri": "https://localhost:8080/",
          "height": 183
        },
        "outputId": "df2f47be-0388-43c6-8039-8041a23f52c4"
      },
      "execution_count": null,
      "outputs": [
        {
          "output_type": "error",
          "ename": "FileNotFoundError",
          "evalue": "ignored",
          "traceback": [
            "\u001b[0;31m---------------------------------------------------------------------------\u001b[0m",
            "\u001b[0;31mFileNotFoundError\u001b[0m                         Traceback (most recent call last)",
            "\u001b[0;32m<ipython-input-4-b7728726ccdf>\u001b[0m in \u001b[0;36m<module>\u001b[0;34m()\u001b[0m\n\u001b[1;32m      1\u001b[0m \u001b[0;31m# opens hello.txt text file in the current directory\u001b[0m\u001b[0;34m\u001b[0m\u001b[0;34m\u001b[0m\u001b[0;34m\u001b[0m\u001b[0m\n\u001b[0;32m----> 2\u001b[0;31m \u001b[0mmessage_file\u001b[0m \u001b[0;34m=\u001b[0m \u001b[0mopen\u001b[0m\u001b[0;34m(\u001b[0m\u001b[0;34m\"message.txt\"\u001b[0m\u001b[0;34m)\u001b[0m\u001b[0;34m\u001b[0m\u001b[0;34m\u001b[0m\u001b[0m\n\u001b[0m",
            "\u001b[0;31mFileNotFoundError\u001b[0m: [Errno 2] No such file or directory: 'message.txt'"
          ]
        }
      ]
    },
    {
      "cell_type": "code",
      "source": [
        "# specifying the full path\n",
        "message_file = open(\"/content/file_operations/message.txt\")"
      ],
      "metadata": {
        "id": "-oxnKr-yog6G"
      },
      "execution_count": null,
      "outputs": []
    },
    {
      "cell_type": "code",
      "source": [
        "message_file = open(\"message.txt\", \"r\")"
      ],
      "metadata": {
        "id": "v6FTiSivopbg"
      },
      "execution_count": null,
      "outputs": []
    },
    {
      "cell_type": "code",
      "source": [
        "content = message_file.read()\n",
        "message_file.close()"
      ],
      "metadata": {
        "id": "Y6VsltxJrxl5"
      },
      "execution_count": null,
      "outputs": []
    },
    {
      "cell_type": "code",
      "source": [
        "print(content)"
      ],
      "metadata": {
        "id": "Z_qkSuwerzpx"
      },
      "execution_count": null,
      "outputs": []
    },
    {
      "cell_type": "code",
      "source": [
        "hello_file = open(\"hello.txt\", \"w\")"
      ],
      "metadata": {
        "id": "98pZ6mwbr1wi"
      },
      "execution_count": null,
      "outputs": []
    },
    {
      "cell_type": "code",
      "source": [
        "hello_file.write('Hello world, this is Python')\n",
        "hello_file.close()"
      ],
      "metadata": {
        "id": "ddfzs2aQr7yZ"
      },
      "execution_count": null,
      "outputs": []
    },
    {
      "cell_type": "code",
      "source": [
        "​​import random\n",
        "while True:\n",
        "\n",
        "  random_number = random.randrange(1000)\n",
        "  print(random_number)\n",
        " \n",
        "  if random_number == 777:\n",
        "    print('Found!')\n",
        "    break"
      ],
      "metadata": {
        "id": "P1foCjY3sG5a"
      },
      "execution_count": null,
      "outputs": []
    },
    {
      "cell_type": "code",
      "source": [
        "import random\n",
        " \n",
        "numbers_file = open('number_history.txt', 'w')\n",
        " \n",
        "while True:\n",
        " \n",
        "  random_number = random.randrange(1000)\n",
        "  print(random_number)\n",
        "  numbers_file.write(str(random_number))\n",
        "  numbers_file.write('\\n')\n",
        " \n",
        "  if random_number == 777:\n",
        "    print('Found!')\n",
        "    numbers_file.write('Found!')\n",
        "    numbers_file.close()\n",
        "    break"
      ],
      "metadata": {
        "id": "8rJRc5K7sKFe"
      },
      "execution_count": null,
      "outputs": []
    },
    {
      "cell_type": "code",
      "source": [
        "import random\n",
        " \n",
        "with open('number_history.txt', 'w') as numbers_file:\n",
        " \n",
        "  while True:\n",
        "\n",
        "    random_number = random.randrange(1000)\n",
        "    print(random_number)\n",
        "    numbers_file.write(str(random_number))\n",
        "    numbers_file.write('\\n')\n",
        " \n",
        "    if random_number == 777:\n",
        "      print('Found!')\n",
        "      numbers_file.write('Found!')\n",
        "      break"
      ],
      "metadata": {
        "id": "97X8-s6ysmW_"
      },
      "execution_count": null,
      "outputs": []
    },
    {
      "cell_type": "code",
      "source": [
        "my_string = \"Hello World\"\n",
        "print(my_string[14])"
      ],
      "metadata": {
        "colab": {
          "base_uri": "https://localhost:8080/",
          "height": 183
        },
        "id": "zy8PIE8CBS12",
        "outputId": "a78b7a31-ce76-42e2-fa98-77b6f71f6b00"
      },
      "execution_count": null,
      "outputs": [
        {
          "output_type": "error",
          "ename": "IndexError",
          "evalue": "ignored",
          "traceback": [
            "\u001b[0;31m---------------------------------------------------------------------------\u001b[0m",
            "\u001b[0;31mIndexError\u001b[0m                                Traceback (most recent call last)",
            "\u001b[0;32m<ipython-input-2-f12f0e1a5677>\u001b[0m in \u001b[0;36m<module>\u001b[0;34m()\u001b[0m\n\u001b[1;32m      1\u001b[0m \u001b[0mmy_string\u001b[0m \u001b[0;34m=\u001b[0m \u001b[0;34m\"Hello World\"\u001b[0m\u001b[0;34m\u001b[0m\u001b[0;34m\u001b[0m\u001b[0m\n\u001b[0;32m----> 2\u001b[0;31m \u001b[0mprint\u001b[0m\u001b[0;34m(\u001b[0m\u001b[0mmy_string\u001b[0m\u001b[0;34m[\u001b[0m\u001b[0;36m14\u001b[0m\u001b[0;34m]\u001b[0m\u001b[0;34m)\u001b[0m\u001b[0;34m\u001b[0m\u001b[0;34m\u001b[0m\u001b[0m\n\u001b[0m",
            "\u001b[0;31mIndexError\u001b[0m: string index out of range"
          ]
        }
      ]
    },
    {
      "cell_type": "code",
      "source": [
        "try:\n",
        "  myfile=open('myfile.txt')\n",
        "  myfile.write(\"0\")\n",
        "except:\n",
        "  myfile=open('mynewfile.txt', 'w')\n",
        "  myfile.write(\"1\")"
      ],
      "metadata": {
        "id": "WTm2rN6mBt30"
      },
      "execution_count": null,
      "outputs": []
    },
    {
      "cell_type": "code",
      "source": [
        "def fool1(num1,num2):\n",
        " try:\n",
        "   return num1+num2+0/1\n",
        " except:\n",
        "   return \"NewException\""
      ],
      "metadata": {
        "id": "fN3_ZcbnChpz"
      },
      "execution_count": null,
      "outputs": []
    },
    {
      "cell_type": "code",
      "source": [
        "i=1\n",
        "while True:\n",
        "   print(i)\n",
        "   i+=2\n",
        "   if (i==5):\n",
        "     break"
      ],
      "metadata": {
        "colab": {
          "base_uri": "https://localhost:8080/"
        },
        "id": "EVoX3GRLG9QV",
        "outputId": "1abc34ce-6cef-4f4d-ec0a-9e484f508c76"
      },
      "execution_count": null,
      "outputs": [
        {
          "output_type": "stream",
          "name": "stdout",
          "text": [
            "1\n",
            "3\n"
          ]
        }
      ]
    },
    {
      "cell_type": "code",
      "source": [
        "item_list = ['Laptop', \n",
        "              'Headset',\n",
        "              'Monitor',\n",
        "              'mausepad',\n",
        "              'USB drive',\n",
        "              'External drive']"
      ],
      "metadata": {
        "id": "fcVWavq6K8nx"
      },
      "execution_count": 1,
      "outputs": []
    },
    {
      "cell_type": "code",
      "source": [
        "item_list.append(['mouse','Pencil','Pen'])\n",
        "item_list.remove ('mausepad')\n",
        "print(item_list)"
      ],
      "metadata": {
        "colab": {
          "base_uri": "https://localhost:8080/"
        },
        "id": "xzNN_4nLLOG5",
        "outputId": "e31d0e79-fb2f-4f2f-e532-eab7898b8682"
      },
      "execution_count": 5,
      "outputs": [
        {
          "output_type": "stream",
          "name": "stdout",
          "text": [
            "['Laptop', 'Headset', 'USB drive', 'External drive', ['mouse', 'Pencil', 'Pen'], ['mouse', 'Pencil', 'Pen'], ['mouse', 'Pencil', 'Pen'], ['mouse', 'Pencil', 'Pen']]\n"
          ]
        }
      ]
    }
  ]
}